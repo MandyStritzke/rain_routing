{
 "cells": [
  {
   "cell_type": "code",
   "execution_count": 3,
   "metadata": {
    "collapsed": true
   },
   "outputs": [],
   "source": [
    "import openrouteservice as ors\n",
    "import folium\n",
    "\n",
    "client = ors.Client(key='5b3ce3597851110001cf6248971aa72d85c54387b65a72d6e34b294f')"
   ]
  },
  {
   "cell_type": "markdown",
   "source": [
    "## Ablauf/ Overview\n",
    "\n",
    "#### Regen\n",
    "- Isochronen in 15Minuten-Wege-Abständen, an diesen Punkten (= Kreisen) Wetter abfragen. Pro Isochrone müssen mehrere Punkte ausgewählt werden (Anzahl abhängig vom Radius der jeweiligen Isochrone)\n",
    "- Erstmal als Vereinfachung: keine tatsächlichen Isochronen verwenden sondern einfach Kreise mit festgelegten Radien (so vermeiden wir eine API-Abfrage). (Aber super fancy).\n",
    "\n",
    "\n",
    "- Anzahl der Punkte auf die Ränder der jeweiligen Isochrone legen, sodass diese gesamt abgedeckt ist (Umsetzung tbd), dort dann das Wetter abfragen, in abhängigkeit des bereits zurückgelegten Weges\n",
    "\n",
    "- Ausgabe sind dann x Punkte, mit Regen Ja/Nein, um diese ziehen wir Radius mit festgelegter Größe (vereinfachte Annahme)\n",
    "#### POI\n",
    "- diese Punkte + deren zugehöriger Bereich bilden dann die Ausschluss-Areas für die nachfolgende POI-Abfrage.\n",
    "\n",
    "- Die POI-Abfrage liefert dann nur Orte, wo die Sonne scheint wenn man ankommt.\n",
    "\n",
    "- User wählt Ziel aus.\n",
    "\n",
    "#### Routenberechnung\n",
    "- möglicherweise ist die Route dann länger als vorher angegeben (da Luftlinie für POI verwendet wird). + Dann noch bei Routenwechsel wegen Regen.\n",
    "- für die Routenberechnung geben wir dann wieder die Regen-Auschluss-Polygone ein.\n",
    "- fertig.\n"
   ],
   "metadata": {
    "collapsed": false,
    "pycharm": {
     "name": "#%% md\n"
    }
   }
  },
  {
   "cell_type": "code",
   "execution_count": 4,
   "outputs": [
    {
     "name": "stdout",
     "output_type": "stream",
     "text": [
      "How far would you like to travel today? Please input your answer in kilometres.\n"
     ]
    }
   ],
   "source": [
    "# user input:\n",
    "\n",
    "print(\"How far would you like to travel today? Please input your answer in kilometres.\")\n",
    "\n",
    "distance_input = 0.5 # [km]"
   ],
   "metadata": {
    "collapsed": false,
    "pycharm": {
     "name": "#%%\n"
    }
   }
  },
  {
   "cell_type": "markdown",
   "source": [
    "## Calculate Points of interest within range"
   ],
   "metadata": {
    "collapsed": false
   }
  },
  {
   "cell_type": "code",
   "execution_count": 113,
   "outputs": [],
   "source": [
    "homebase = [10.5288243, 52.2733412]\n",
    "\n",
    "m = folium.Map(location=list(reversed(homebase)), tiles='cartodbpositron', zoom_start=13)"
   ],
   "metadata": {
    "collapsed": false,
    "pycharm": {
     "name": "#%%\n"
    }
   }
  },
  {
   "cell_type": "code",
   "execution_count": 105,
   "outputs": [],
   "source": [
    "# Coordinates of the university:\n",
    "geojson = {\"type\": \"point\", \"coordinates\": homebase}\n",
    "\n",
    "\n",
    "# hier polygone uebergeben, in denen es regnet.\n",
    "\n",
    "pois = client.places(\n",
    "    request='pois',\n",
    "    geojson=geojson,\n",
    "    buffer= distance_input*1000,  # searches within 500 meters of specified point [m]\n",
    "    filter_category_ids=[237,240],#[220, 568],  # https://github.com/GIScience/openpoiservice/blob/master/openpoiservice/server/categories/categories.yml\n",
    "    #filter_category_group= ['historic'],\n",
    "    validate=False,\n",
    "#     dry_run=True\n",
    ")"
   ],
   "metadata": {
    "collapsed": false,
    "pycharm": {
     "name": "#%%\n"
    }
   }
  },
  {
   "cell_type": "markdown",
   "source": [
    "## Output POIs"
   ],
   "metadata": {
    "collapsed": false,
    "pycharm": {
     "name": "#%% md\n"
    }
   }
  },
  {
   "cell_type": "code",
   "execution_count": 114,
   "outputs": [
    {
     "name": "stdout",
     "output_type": "stream",
     "text": [
      "We have found the following destinations:\n",
      "1. : Gauß-Denkmal, Distance: 0.45km\n",
      "2. : Gedenksäule für das Reserve-Infanterie-Regiment 273, Distance: 0.37km\n",
      "3. : Kein Name zugeordnet., Distance: 0.17km\n",
      "4. : Kein Name zugeordnet., Distance: 0.37km\n"
     ]
    },
    {
     "data": {
      "text/plain": "<folium.folium.Map at 0x116029ca0>",
      "text/html": "<div style=\"width:100%;\"><div style=\"position:relative;width:100%;height:0;padding-bottom:60%;\"><span style=\"color:#565656\">Make this Notebook Trusted to load map: File -> Trust Notebook</span><iframe src=\"about:blank\" style=\"position:absolute;width:100%;height:100%;left:0;top:0;border:none !important;\" data-html=%3C%21DOCTYPE%20html%3E%0A%3Chead%3E%20%20%20%20%0A%20%20%20%20%3Cmeta%20http-equiv%3D%22content-type%22%20content%3D%22text/html%3B%20charset%3DUTF-8%22%20/%3E%0A%20%20%20%20%0A%20%20%20%20%20%20%20%20%3Cscript%3E%0A%20%20%20%20%20%20%20%20%20%20%20%20L_NO_TOUCH%20%3D%20false%3B%0A%20%20%20%20%20%20%20%20%20%20%20%20L_DISABLE_3D%20%3D%20false%3B%0A%20%20%20%20%20%20%20%20%3C/script%3E%0A%20%20%20%20%0A%20%20%20%20%3Cstyle%3Ehtml%2C%20body%20%7Bwidth%3A%20100%25%3Bheight%3A%20100%25%3Bmargin%3A%200%3Bpadding%3A%200%3B%7D%3C/style%3E%0A%20%20%20%20%3Cstyle%3E%23map%20%7Bposition%3Aabsolute%3Btop%3A0%3Bbottom%3A0%3Bright%3A0%3Bleft%3A0%3B%7D%3C/style%3E%0A%20%20%20%20%3Cscript%20src%3D%22https%3A//cdn.jsdelivr.net/npm/leaflet%401.6.0/dist/leaflet.js%22%3E%3C/script%3E%0A%20%20%20%20%3Cscript%20src%3D%22https%3A//code.jquery.com/jquery-1.12.4.min.js%22%3E%3C/script%3E%0A%20%20%20%20%3Cscript%20src%3D%22https%3A//maxcdn.bootstrapcdn.com/bootstrap/3.2.0/js/bootstrap.min.js%22%3E%3C/script%3E%0A%20%20%20%20%3Cscript%20src%3D%22https%3A//cdnjs.cloudflare.com/ajax/libs/Leaflet.awesome-markers/2.0.2/leaflet.awesome-markers.js%22%3E%3C/script%3E%0A%20%20%20%20%3Clink%20rel%3D%22stylesheet%22%20href%3D%22https%3A//cdn.jsdelivr.net/npm/leaflet%401.6.0/dist/leaflet.css%22/%3E%0A%20%20%20%20%3Clink%20rel%3D%22stylesheet%22%20href%3D%22https%3A//maxcdn.bootstrapcdn.com/bootstrap/3.2.0/css/bootstrap.min.css%22/%3E%0A%20%20%20%20%3Clink%20rel%3D%22stylesheet%22%20href%3D%22https%3A//maxcdn.bootstrapcdn.com/bootstrap/3.2.0/css/bootstrap-theme.min.css%22/%3E%0A%20%20%20%20%3Clink%20rel%3D%22stylesheet%22%20href%3D%22https%3A//maxcdn.bootstrapcdn.com/font-awesome/4.6.3/css/font-awesome.min.css%22/%3E%0A%20%20%20%20%3Clink%20rel%3D%22stylesheet%22%20href%3D%22https%3A//cdnjs.cloudflare.com/ajax/libs/Leaflet.awesome-markers/2.0.2/leaflet.awesome-markers.css%22/%3E%0A%20%20%20%20%3Clink%20rel%3D%22stylesheet%22%20href%3D%22https%3A//cdn.jsdelivr.net/gh/python-visualization/folium/folium/templates/leaflet.awesome.rotate.min.css%22/%3E%0A%20%20%20%20%0A%20%20%20%20%20%20%20%20%20%20%20%20%3Cmeta%20name%3D%22viewport%22%20content%3D%22width%3Ddevice-width%2C%0A%20%20%20%20%20%20%20%20%20%20%20%20%20%20%20%20initial-scale%3D1.0%2C%20maximum-scale%3D1.0%2C%20user-scalable%3Dno%22%20/%3E%0A%20%20%20%20%20%20%20%20%20%20%20%20%3Cstyle%3E%0A%20%20%20%20%20%20%20%20%20%20%20%20%20%20%20%20%23map_2f03e8dc81a64d03988162f8bdbc92e0%20%7B%0A%20%20%20%20%20%20%20%20%20%20%20%20%20%20%20%20%20%20%20%20position%3A%20relative%3B%0A%20%20%20%20%20%20%20%20%20%20%20%20%20%20%20%20%20%20%20%20width%3A%20100.0%25%3B%0A%20%20%20%20%20%20%20%20%20%20%20%20%20%20%20%20%20%20%20%20height%3A%20100.0%25%3B%0A%20%20%20%20%20%20%20%20%20%20%20%20%20%20%20%20%20%20%20%20left%3A%200.0%25%3B%0A%20%20%20%20%20%20%20%20%20%20%20%20%20%20%20%20%20%20%20%20top%3A%200.0%25%3B%0A%20%20%20%20%20%20%20%20%20%20%20%20%20%20%20%20%7D%0A%20%20%20%20%20%20%20%20%20%20%20%20%3C/style%3E%0A%20%20%20%20%20%20%20%20%0A%3C/head%3E%0A%3Cbody%3E%20%20%20%20%0A%20%20%20%20%0A%20%20%20%20%20%20%20%20%20%20%20%20%3Cdiv%20class%3D%22folium-map%22%20id%3D%22map_2f03e8dc81a64d03988162f8bdbc92e0%22%20%3E%3C/div%3E%0A%20%20%20%20%20%20%20%20%0A%3C/body%3E%0A%3Cscript%3E%20%20%20%20%0A%20%20%20%20%0A%20%20%20%20%20%20%20%20%20%20%20%20var%20map_2f03e8dc81a64d03988162f8bdbc92e0%20%3D%20L.map%28%0A%20%20%20%20%20%20%20%20%20%20%20%20%20%20%20%20%22map_2f03e8dc81a64d03988162f8bdbc92e0%22%2C%0A%20%20%20%20%20%20%20%20%20%20%20%20%20%20%20%20%7B%0A%20%20%20%20%20%20%20%20%20%20%20%20%20%20%20%20%20%20%20%20center%3A%20%5B52.2733412%2C%2010.5288243%5D%2C%0A%20%20%20%20%20%20%20%20%20%20%20%20%20%20%20%20%20%20%20%20crs%3A%20L.CRS.EPSG3857%2C%0A%20%20%20%20%20%20%20%20%20%20%20%20%20%20%20%20%20%20%20%20zoom%3A%2013%2C%0A%20%20%20%20%20%20%20%20%20%20%20%20%20%20%20%20%20%20%20%20zoomControl%3A%20true%2C%0A%20%20%20%20%20%20%20%20%20%20%20%20%20%20%20%20%20%20%20%20preferCanvas%3A%20false%2C%0A%20%20%20%20%20%20%20%20%20%20%20%20%20%20%20%20%7D%0A%20%20%20%20%20%20%20%20%20%20%20%20%29%3B%0A%0A%20%20%20%20%20%20%20%20%20%20%20%20%0A%0A%20%20%20%20%20%20%20%20%0A%20%20%20%20%0A%20%20%20%20%20%20%20%20%20%20%20%20var%20tile_layer_b23a27267a854d90a04a69e34a961a03%20%3D%20L.tileLayer%28%0A%20%20%20%20%20%20%20%20%20%20%20%20%20%20%20%20%22https%3A//cartodb-basemaps-%7Bs%7D.global.ssl.fastly.net/light_all/%7Bz%7D/%7Bx%7D/%7By%7D.png%22%2C%0A%20%20%20%20%20%20%20%20%20%20%20%20%20%20%20%20%7B%22attribution%22%3A%20%22%5Cu0026copy%3B%20%5Cu003ca%20href%3D%5C%22http%3A//www.openstreetmap.org/copyright%5C%22%5Cu003eOpenStreetMap%5Cu003c/a%5Cu003e%20contributors%20%5Cu0026copy%3B%20%5Cu003ca%20href%3D%5C%22http%3A//cartodb.com/attributions%5C%22%5Cu003eCartoDB%5Cu003c/a%5Cu003e%2C%20CartoDB%20%5Cu003ca%20href%20%3D%5C%22http%3A//cartodb.com/attributions%5C%22%5Cu003eattributions%5Cu003c/a%5Cu003e%22%2C%20%22detectRetina%22%3A%20false%2C%20%22maxNativeZoom%22%3A%2018%2C%20%22maxZoom%22%3A%2018%2C%20%22minZoom%22%3A%200%2C%20%22noWrap%22%3A%20false%2C%20%22opacity%22%3A%201%2C%20%22subdomains%22%3A%20%22abc%22%2C%20%22tms%22%3A%20false%7D%0A%20%20%20%20%20%20%20%20%20%20%20%20%29.addTo%28map_2f03e8dc81a64d03988162f8bdbc92e0%29%3B%0A%20%20%20%20%20%20%20%20%0A%20%20%20%20%0A%20%20%20%20%20%20%20%20%20%20%20%20var%20marker_10976a7a67dc42daa893fa8121f3f91e%20%3D%20L.marker%28%0A%20%20%20%20%20%20%20%20%20%20%20%20%20%20%20%20%5B52.271968%2C%2010.522635%5D%2C%0A%20%20%20%20%20%20%20%20%20%20%20%20%20%20%20%20%7B%7D%0A%20%20%20%20%20%20%20%20%20%20%20%20%29.addTo%28map_2f03e8dc81a64d03988162f8bdbc92e0%29%3B%0A%20%20%20%20%20%20%20%20%0A%20%20%20%20%0A%20%20%20%20%20%20%20%20%20%20%20%20var%20icon_2a4d42f4208440019eaba6e6289e8684%20%3D%20L.AwesomeMarkers.icon%28%0A%20%20%20%20%20%20%20%20%20%20%20%20%20%20%20%20%7B%22extraClasses%22%3A%20%22fa-rotate-0%22%2C%20%22icon%22%3A%20%22bank%22%2C%20%22iconColor%22%3A%20%22white%22%2C%20%22markerColor%22%3A%20%22red%22%2C%20%22prefix%22%3A%20%22fa%22%7D%0A%20%20%20%20%20%20%20%20%20%20%20%20%29%3B%0A%20%20%20%20%20%20%20%20%20%20%20%20marker_10976a7a67dc42daa893fa8121f3f91e.setIcon%28icon_2a4d42f4208440019eaba6e6289e8684%29%3B%0A%20%20%20%20%20%20%20%20%0A%20%20%20%20%0A%20%20%20%20%20%20%20%20var%20popup_39a627cc3a474db8ba30469dc63ce014%20%3D%20L.popup%28%7B%22maxWidth%22%3A%20%22100%25%22%7D%29%3B%0A%0A%20%20%20%20%20%20%20%20%0A%20%20%20%20%20%20%20%20%20%20%20%20var%20html_0657385d07c84d75b9e76c13c4b21854%20%3D%20%24%28%60%3Cdiv%20id%3D%22html_0657385d07c84d75b9e76c13c4b21854%22%20style%3D%22width%3A%20100.0%25%3B%20height%3A%20100.0%25%3B%22%3EGau%C3%9F-Denkmal%3C/div%3E%60%29%5B0%5D%3B%0A%20%20%20%20%20%20%20%20%20%20%20%20popup_39a627cc3a474db8ba30469dc63ce014.setContent%28html_0657385d07c84d75b9e76c13c4b21854%29%3B%0A%20%20%20%20%20%20%20%20%0A%0A%20%20%20%20%20%20%20%20marker_10976a7a67dc42daa893fa8121f3f91e.bindPopup%28popup_39a627cc3a474db8ba30469dc63ce014%29%0A%20%20%20%20%20%20%20%20%3B%0A%0A%20%20%20%20%20%20%20%20%0A%20%20%20%20%0A%20%20%20%20%0A%20%20%20%20%20%20%20%20%20%20%20%20marker_10976a7a67dc42daa893fa8121f3f91e.bindTooltip%28%0A%20%20%20%20%20%20%20%20%20%20%20%20%20%20%20%20%60%3Cdiv%3E%0A%20%20%20%20%20%20%20%20%20%20%20%20%20%20%20%20%20%20%20%20%201%0A%20%20%20%20%20%20%20%20%20%20%20%20%20%20%20%20%20%3C/div%3E%60%2C%0A%20%20%20%20%20%20%20%20%20%20%20%20%20%20%20%20%7B%22sticky%22%3A%20true%7D%0A%20%20%20%20%20%20%20%20%20%20%20%20%29%3B%0A%20%20%20%20%20%20%20%20%0A%20%20%20%20%0A%20%20%20%20%20%20%20%20%20%20%20%20var%20marker_e5881f1814734d2fbbcce6e789275a21%20%3D%20L.marker%28%0A%20%20%20%20%20%20%20%20%20%20%20%20%20%20%20%20%5B52.27218%2C%2010.52381%5D%2C%0A%20%20%20%20%20%20%20%20%20%20%20%20%20%20%20%20%7B%7D%0A%20%20%20%20%20%20%20%20%20%20%20%20%29.addTo%28map_2f03e8dc81a64d03988162f8bdbc92e0%29%3B%0A%20%20%20%20%20%20%20%20%0A%20%20%20%20%0A%20%20%20%20%20%20%20%20%20%20%20%20var%20icon_2d9913c642ab4f01ac07bb33c4642be9%20%3D%20L.AwesomeMarkers.icon%28%0A%20%20%20%20%20%20%20%20%20%20%20%20%20%20%20%20%7B%22extraClasses%22%3A%20%22fa-rotate-0%22%2C%20%22icon%22%3A%20%22bank%22%2C%20%22iconColor%22%3A%20%22white%22%2C%20%22markerColor%22%3A%20%22red%22%2C%20%22prefix%22%3A%20%22fa%22%7D%0A%20%20%20%20%20%20%20%20%20%20%20%20%29%3B%0A%20%20%20%20%20%20%20%20%20%20%20%20marker_e5881f1814734d2fbbcce6e789275a21.setIcon%28icon_2d9913c642ab4f01ac07bb33c4642be9%29%3B%0A%20%20%20%20%20%20%20%20%0A%20%20%20%20%0A%20%20%20%20%20%20%20%20var%20popup_714d03db54d54ee08ae57aed59b4145c%20%3D%20L.popup%28%7B%22maxWidth%22%3A%20%22100%25%22%7D%29%3B%0A%0A%20%20%20%20%20%20%20%20%0A%20%20%20%20%20%20%20%20%20%20%20%20var%20html_498dc23f699d4c9a998c7a019d3bd273%20%3D%20%24%28%60%3Cdiv%20id%3D%22html_498dc23f699d4c9a998c7a019d3bd273%22%20style%3D%22width%3A%20100.0%25%3B%20height%3A%20100.0%25%3B%22%3EGedenks%C3%A4ule%20f%C3%BCr%20das%20Reserve-Infanterie-Regiment%20273%3C/div%3E%60%29%5B0%5D%3B%0A%20%20%20%20%20%20%20%20%20%20%20%20popup_714d03db54d54ee08ae57aed59b4145c.setContent%28html_498dc23f699d4c9a998c7a019d3bd273%29%3B%0A%20%20%20%20%20%20%20%20%0A%0A%20%20%20%20%20%20%20%20marker_e5881f1814734d2fbbcce6e789275a21.bindPopup%28popup_714d03db54d54ee08ae57aed59b4145c%29%0A%20%20%20%20%20%20%20%20%3B%0A%0A%20%20%20%20%20%20%20%20%0A%20%20%20%20%0A%20%20%20%20%0A%20%20%20%20%20%20%20%20%20%20%20%20marker_e5881f1814734d2fbbcce6e789275a21.bindTooltip%28%0A%20%20%20%20%20%20%20%20%20%20%20%20%20%20%20%20%60%3Cdiv%3E%0A%20%20%20%20%20%20%20%20%20%20%20%20%20%20%20%20%20%20%20%20%202%0A%20%20%20%20%20%20%20%20%20%20%20%20%20%20%20%20%20%3C/div%3E%60%2C%0A%20%20%20%20%20%20%20%20%20%20%20%20%20%20%20%20%7B%22sticky%22%3A%20true%7D%0A%20%20%20%20%20%20%20%20%20%20%20%20%29%3B%0A%20%20%20%20%20%20%20%20%0A%20%20%20%20%0A%20%20%20%20%20%20%20%20%20%20%20%20var%20marker_f37fe1a2669c42d9814179be4c32472f%20%3D%20L.marker%28%0A%20%20%20%20%20%20%20%20%20%20%20%20%20%20%20%20%5B52.274792%2C%2010.528172%5D%2C%0A%20%20%20%20%20%20%20%20%20%20%20%20%20%20%20%20%7B%7D%0A%20%20%20%20%20%20%20%20%20%20%20%20%29.addTo%28map_2f03e8dc81a64d03988162f8bdbc92e0%29%3B%0A%20%20%20%20%20%20%20%20%0A%20%20%20%20%0A%20%20%20%20%20%20%20%20%20%20%20%20var%20icon_1098e66bc1c045cda1eb84f3ecafdf2d%20%3D%20L.AwesomeMarkers.icon%28%0A%20%20%20%20%20%20%20%20%20%20%20%20%20%20%20%20%7B%22extraClasses%22%3A%20%22fa-rotate-0%22%2C%20%22icon%22%3A%20%22bank%22%2C%20%22iconColor%22%3A%20%22white%22%2C%20%22markerColor%22%3A%20%22red%22%2C%20%22prefix%22%3A%20%22fa%22%7D%0A%20%20%20%20%20%20%20%20%20%20%20%20%29%3B%0A%20%20%20%20%20%20%20%20%20%20%20%20marker_f37fe1a2669c42d9814179be4c32472f.setIcon%28icon_1098e66bc1c045cda1eb84f3ecafdf2d%29%3B%0A%20%20%20%20%20%20%20%20%0A%20%20%20%20%0A%20%20%20%20%20%20%20%20var%20popup_7c43769e1d3649e8bd725c6f5791e10a%20%3D%20L.popup%28%7B%22maxWidth%22%3A%20%22100%25%22%7D%29%3B%0A%0A%20%20%20%20%20%20%20%20%0A%20%20%20%20%20%20%20%20%20%20%20%20var%20html_0e5f6ce636a4419e943bf82572895e62%20%3D%20%24%28%60%3Cdiv%20id%3D%22html_0e5f6ce636a4419e943bf82572895e62%22%20style%3D%22width%3A%20100.0%25%3B%20height%3A%20100.0%25%3B%22%3EKein%20Name%20zugeordnet.%3C/div%3E%60%29%5B0%5D%3B%0A%20%20%20%20%20%20%20%20%20%20%20%20popup_7c43769e1d3649e8bd725c6f5791e10a.setContent%28html_0e5f6ce636a4419e943bf82572895e62%29%3B%0A%20%20%20%20%20%20%20%20%0A%0A%20%20%20%20%20%20%20%20marker_f37fe1a2669c42d9814179be4c32472f.bindPopup%28popup_7c43769e1d3649e8bd725c6f5791e10a%29%0A%20%20%20%20%20%20%20%20%3B%0A%0A%20%20%20%20%20%20%20%20%0A%20%20%20%20%0A%20%20%20%20%0A%20%20%20%20%20%20%20%20%20%20%20%20marker_f37fe1a2669c42d9814179be4c32472f.bindTooltip%28%0A%20%20%20%20%20%20%20%20%20%20%20%20%20%20%20%20%60%3Cdiv%3E%0A%20%20%20%20%20%20%20%20%20%20%20%20%20%20%20%20%20%20%20%20%203%0A%20%20%20%20%20%20%20%20%20%20%20%20%20%20%20%20%20%3C/div%3E%60%2C%0A%20%20%20%20%20%20%20%20%20%20%20%20%20%20%20%20%7B%22sticky%22%3A%20true%7D%0A%20%20%20%20%20%20%20%20%20%20%20%20%29%3B%0A%20%20%20%20%20%20%20%20%0A%20%20%20%20%0A%20%20%20%20%20%20%20%20%20%20%20%20var%20marker_9099b5a3d8e3435ebcc66a8bff7a578c%20%3D%20L.marker%28%0A%20%20%20%20%20%20%20%20%20%20%20%20%20%20%20%20%5B52.271059%2C%2010.53269%5D%2C%0A%20%20%20%20%20%20%20%20%20%20%20%20%20%20%20%20%7B%7D%0A%20%20%20%20%20%20%20%20%20%20%20%20%29.addTo%28map_2f03e8dc81a64d03988162f8bdbc92e0%29%3B%0A%20%20%20%20%20%20%20%20%0A%20%20%20%20%0A%20%20%20%20%20%20%20%20%20%20%20%20var%20icon_92b3ccc726c041718a5d3c1eeb67e535%20%3D%20L.AwesomeMarkers.icon%28%0A%20%20%20%20%20%20%20%20%20%20%20%20%20%20%20%20%7B%22extraClasses%22%3A%20%22fa-rotate-0%22%2C%20%22icon%22%3A%20%22bank%22%2C%20%22iconColor%22%3A%20%22white%22%2C%20%22markerColor%22%3A%20%22red%22%2C%20%22prefix%22%3A%20%22fa%22%7D%0A%20%20%20%20%20%20%20%20%20%20%20%20%29%3B%0A%20%20%20%20%20%20%20%20%20%20%20%20marker_9099b5a3d8e3435ebcc66a8bff7a578c.setIcon%28icon_92b3ccc726c041718a5d3c1eeb67e535%29%3B%0A%20%20%20%20%20%20%20%20%0A%20%20%20%20%0A%20%20%20%20%20%20%20%20var%20popup_3f90f9cefbc94b0aac7837a029da875d%20%3D%20L.popup%28%7B%22maxWidth%22%3A%20%22100%25%22%7D%29%3B%0A%0A%20%20%20%20%20%20%20%20%0A%20%20%20%20%20%20%20%20%20%20%20%20var%20html_71f0859162b445eaafb73163421b2edf%20%3D%20%24%28%60%3Cdiv%20id%3D%22html_71f0859162b445eaafb73163421b2edf%22%20style%3D%22width%3A%20100.0%25%3B%20height%3A%20100.0%25%3B%22%3EKein%20Name%20zugeordnet.%3C/div%3E%60%29%5B0%5D%3B%0A%20%20%20%20%20%20%20%20%20%20%20%20popup_3f90f9cefbc94b0aac7837a029da875d.setContent%28html_71f0859162b445eaafb73163421b2edf%29%3B%0A%20%20%20%20%20%20%20%20%0A%0A%20%20%20%20%20%20%20%20marker_9099b5a3d8e3435ebcc66a8bff7a578c.bindPopup%28popup_3f90f9cefbc94b0aac7837a029da875d%29%0A%20%20%20%20%20%20%20%20%3B%0A%0A%20%20%20%20%20%20%20%20%0A%20%20%20%20%0A%20%20%20%20%0A%20%20%20%20%20%20%20%20%20%20%20%20marker_9099b5a3d8e3435ebcc66a8bff7a578c.bindTooltip%28%0A%20%20%20%20%20%20%20%20%20%20%20%20%20%20%20%20%60%3Cdiv%3E%0A%20%20%20%20%20%20%20%20%20%20%20%20%20%20%20%20%20%20%20%20%204%0A%20%20%20%20%20%20%20%20%20%20%20%20%20%20%20%20%20%3C/div%3E%60%2C%0A%20%20%20%20%20%20%20%20%20%20%20%20%20%20%20%20%7B%22sticky%22%3A%20true%7D%0A%20%20%20%20%20%20%20%20%20%20%20%20%29%3B%0A%20%20%20%20%20%20%20%20%0A%3C/script%3E onload=\"this.contentDocument.open();this.contentDocument.write(    decodeURIComponent(this.getAttribute('data-html')));this.contentDocument.close();\" allowfullscreen webkitallowfullscreen mozallowfullscreen></iframe></div></div>"
     },
     "execution_count": 114,
     "metadata": {},
     "output_type": "execute_result"
    }
   ],
   "source": [
    "print(\"We have found the following destinations:\")\n",
    "\n",
    "\n",
    "for i, poi in enumerate(pois['features']):\n",
    "    poi_name = poi['properties'].get('osm_tags', {}).get('name', \"Kein Name zugeordnet.\")\n",
    "    poi_distance = poi['properties']['distance']\n",
    "    poi_category_group = poi['properties'].get('category_ids',{}).values().__iter__().__next__()['category_group']\n",
    "\n",
    "    print(f\"{i+1}. : {poi_name}, Distance: {round(poi_distance/1000,2)}km\")\n",
    "\n",
    "    # depending on the category of the POI, change the icon of the marker. examples:\n",
    "    # list of all icons: https://getbootstrap.com/docs/3.3/components/ (but more with the prefix 'fa' on here: https://fontawesome.com/icons?d=gallery, only works with fa-4!)\n",
    "    if poi_category_group == 'historic':\n",
    "        icon = folium.Icon(color=\"red\",icon=\"bank\", prefix='fa')#folium.Icon(prefix='fa', icon='landmark')\n",
    "    elif poi_category_group == 'natural':\n",
    "        icon = folium.Icon(color=\"green\",icon=\"leaf\", prefix='fa')#folium.Icon(prefix='fa', icon='landmark')\n",
    "    else:\n",
    "        icon = folium.Icon(color='blue')\n",
    "\n",
    "    folium.Marker(\n",
    "        location=list(reversed(poi['geometry']['coordinates'])),\n",
    "        icon = icon,\n",
    "        popup=folium.Popup(poi_name),\n",
    "        tooltip=i+1\n",
    "    ).add_to(m)\n",
    "m"
   ],
   "metadata": {
    "collapsed": false,
    "pycharm": {
     "name": "#%%\n"
    }
   }
  },
  {
   "cell_type": "code",
   "execution_count": 115,
   "outputs": [
    {
     "name": "stdout",
     "output_type": "stream",
     "text": [
      "Where would you like to go? Choose one.\n",
      "You have chosen Gauß-Denkmal. Good choice!\n"
     ]
    }
   ],
   "source": [
    "print(\"Where would you like to go? Choose one.\")\n",
    "# user input\n",
    "chosen_poi_id = 1 # convert that again to zero-based.\n",
    "\n",
    "chosen_poi = pois['features'][chosen_poi_id - 1]\n",
    "\n",
    "\n",
    "poi_name = chosen_poi['properties'].get('osm_tags', {}).get('name', \"Kein Name zugeordnet.\")\n",
    "poi_distance = chosen_poi['properties']['distance']\n",
    "\n",
    "poi_coordinates = chosen_poi['geometry']['coordinates']\n",
    "print(f\"You have chosen {poi_name}. Good choice!\")"
   ],
   "metadata": {
    "collapsed": false,
    "pycharm": {
     "name": "#%%\n"
    }
   }
  },
  {
   "cell_type": "code",
   "execution_count": 116,
   "outputs": [],
   "source": [
    "# Now calculate a route to this spot with restrictions on the rainy areas.\n"
   ],
   "metadata": {
    "collapsed": false,
    "pycharm": {
     "name": "#%%\n"
    }
   }
  },
  {
   "cell_type": "code",
   "execution_count": 122,
   "outputs": [],
   "source": [
    "# API Call for the route\n",
    "# TODO: consider rain-polygons\n",
    "\n",
    "coordinates = [homebase, poi_coordinates]\n",
    "\n",
    "route = client.directions(\n",
    "    coordinates=coordinates,\n",
    "    profile='foot-walking',\n",
    "    format='geojson',\n",
    "    options={\"avoid_features\": [\"steps\"]},\n",
    "    validate=False,\n",
    ")\n"
   ],
   "metadata": {
    "collapsed": false,
    "pycharm": {
     "name": "#%%\n"
    }
   }
  },
  {
   "cell_type": "code",
   "execution_count": 123,
   "outputs": [
    {
     "data": {
      "text/plain": "<folium.folium.Map at 0x116029ca0>",
      "text/html": "<div style=\"width:100%;\"><div style=\"position:relative;width:100%;height:0;padding-bottom:60%;\"><span style=\"color:#565656\">Make this Notebook Trusted to load map: File -> Trust Notebook</span><iframe src=\"about:blank\" style=\"position:absolute;width:100%;height:100%;left:0;top:0;border:none !important;\" data-html=%3C%21DOCTYPE%20html%3E%0A%3Chead%3E%20%20%20%20%0A%20%20%20%20%3Cmeta%20http-equiv%3D%22content-type%22%20content%3D%22text/html%3B%20charset%3DUTF-8%22%20/%3E%0A%20%20%20%20%0A%20%20%20%20%20%20%20%20%3Cscript%3E%0A%20%20%20%20%20%20%20%20%20%20%20%20L_NO_TOUCH%20%3D%20false%3B%0A%20%20%20%20%20%20%20%20%20%20%20%20L_DISABLE_3D%20%3D%20false%3B%0A%20%20%20%20%20%20%20%20%3C/script%3E%0A%20%20%20%20%0A%20%20%20%20%3Cstyle%3Ehtml%2C%20body%20%7Bwidth%3A%20100%25%3Bheight%3A%20100%25%3Bmargin%3A%200%3Bpadding%3A%200%3B%7D%3C/style%3E%0A%20%20%20%20%3Cstyle%3E%23map%20%7Bposition%3Aabsolute%3Btop%3A0%3Bbottom%3A0%3Bright%3A0%3Bleft%3A0%3B%7D%3C/style%3E%0A%20%20%20%20%3Cscript%20src%3D%22https%3A//cdn.jsdelivr.net/npm/leaflet%401.6.0/dist/leaflet.js%22%3E%3C/script%3E%0A%20%20%20%20%3Cscript%20src%3D%22https%3A//code.jquery.com/jquery-1.12.4.min.js%22%3E%3C/script%3E%0A%20%20%20%20%3Cscript%20src%3D%22https%3A//maxcdn.bootstrapcdn.com/bootstrap/3.2.0/js/bootstrap.min.js%22%3E%3C/script%3E%0A%20%20%20%20%3Cscript%20src%3D%22https%3A//cdnjs.cloudflare.com/ajax/libs/Leaflet.awesome-markers/2.0.2/leaflet.awesome-markers.js%22%3E%3C/script%3E%0A%20%20%20%20%3Clink%20rel%3D%22stylesheet%22%20href%3D%22https%3A//cdn.jsdelivr.net/npm/leaflet%401.6.0/dist/leaflet.css%22/%3E%0A%20%20%20%20%3Clink%20rel%3D%22stylesheet%22%20href%3D%22https%3A//maxcdn.bootstrapcdn.com/bootstrap/3.2.0/css/bootstrap.min.css%22/%3E%0A%20%20%20%20%3Clink%20rel%3D%22stylesheet%22%20href%3D%22https%3A//maxcdn.bootstrapcdn.com/bootstrap/3.2.0/css/bootstrap-theme.min.css%22/%3E%0A%20%20%20%20%3Clink%20rel%3D%22stylesheet%22%20href%3D%22https%3A//maxcdn.bootstrapcdn.com/font-awesome/4.6.3/css/font-awesome.min.css%22/%3E%0A%20%20%20%20%3Clink%20rel%3D%22stylesheet%22%20href%3D%22https%3A//cdnjs.cloudflare.com/ajax/libs/Leaflet.awesome-markers/2.0.2/leaflet.awesome-markers.css%22/%3E%0A%20%20%20%20%3Clink%20rel%3D%22stylesheet%22%20href%3D%22https%3A//cdn.jsdelivr.net/gh/python-visualization/folium/folium/templates/leaflet.awesome.rotate.min.css%22/%3E%0A%20%20%20%20%0A%20%20%20%20%20%20%20%20%20%20%20%20%3Cmeta%20name%3D%22viewport%22%20content%3D%22width%3Ddevice-width%2C%0A%20%20%20%20%20%20%20%20%20%20%20%20%20%20%20%20initial-scale%3D1.0%2C%20maximum-scale%3D1.0%2C%20user-scalable%3Dno%22%20/%3E%0A%20%20%20%20%20%20%20%20%20%20%20%20%3Cstyle%3E%0A%20%20%20%20%20%20%20%20%20%20%20%20%20%20%20%20%23map_2f03e8dc81a64d03988162f8bdbc92e0%20%7B%0A%20%20%20%20%20%20%20%20%20%20%20%20%20%20%20%20%20%20%20%20position%3A%20relative%3B%0A%20%20%20%20%20%20%20%20%20%20%20%20%20%20%20%20%20%20%20%20width%3A%20100.0%25%3B%0A%20%20%20%20%20%20%20%20%20%20%20%20%20%20%20%20%20%20%20%20height%3A%20100.0%25%3B%0A%20%20%20%20%20%20%20%20%20%20%20%20%20%20%20%20%20%20%20%20left%3A%200.0%25%3B%0A%20%20%20%20%20%20%20%20%20%20%20%20%20%20%20%20%20%20%20%20top%3A%200.0%25%3B%0A%20%20%20%20%20%20%20%20%20%20%20%20%20%20%20%20%7D%0A%20%20%20%20%20%20%20%20%20%20%20%20%3C/style%3E%0A%20%20%20%20%20%20%20%20%0A%3C/head%3E%0A%3Cbody%3E%20%20%20%20%0A%20%20%20%20%0A%20%20%20%20%20%20%20%20%20%20%20%20%3Cdiv%20class%3D%22folium-map%22%20id%3D%22map_2f03e8dc81a64d03988162f8bdbc92e0%22%20%3E%3C/div%3E%0A%20%20%20%20%20%20%20%20%0A%3C/body%3E%0A%3Cscript%3E%20%20%20%20%0A%20%20%20%20%0A%20%20%20%20%20%20%20%20%20%20%20%20var%20map_2f03e8dc81a64d03988162f8bdbc92e0%20%3D%20L.map%28%0A%20%20%20%20%20%20%20%20%20%20%20%20%20%20%20%20%22map_2f03e8dc81a64d03988162f8bdbc92e0%22%2C%0A%20%20%20%20%20%20%20%20%20%20%20%20%20%20%20%20%7B%0A%20%20%20%20%20%20%20%20%20%20%20%20%20%20%20%20%20%20%20%20center%3A%20%5B52.2733412%2C%2010.5288243%5D%2C%0A%20%20%20%20%20%20%20%20%20%20%20%20%20%20%20%20%20%20%20%20crs%3A%20L.CRS.EPSG3857%2C%0A%20%20%20%20%20%20%20%20%20%20%20%20%20%20%20%20%20%20%20%20zoom%3A%2013%2C%0A%20%20%20%20%20%20%20%20%20%20%20%20%20%20%20%20%20%20%20%20zoomControl%3A%20true%2C%0A%20%20%20%20%20%20%20%20%20%20%20%20%20%20%20%20%20%20%20%20preferCanvas%3A%20false%2C%0A%20%20%20%20%20%20%20%20%20%20%20%20%20%20%20%20%7D%0A%20%20%20%20%20%20%20%20%20%20%20%20%29%3B%0A%0A%20%20%20%20%20%20%20%20%20%20%20%20%0A%0A%20%20%20%20%20%20%20%20%0A%20%20%20%20%0A%20%20%20%20%20%20%20%20%20%20%20%20var%20tile_layer_b23a27267a854d90a04a69e34a961a03%20%3D%20L.tileLayer%28%0A%20%20%20%20%20%20%20%20%20%20%20%20%20%20%20%20%22https%3A//cartodb-basemaps-%7Bs%7D.global.ssl.fastly.net/light_all/%7Bz%7D/%7Bx%7D/%7By%7D.png%22%2C%0A%20%20%20%20%20%20%20%20%20%20%20%20%20%20%20%20%7B%22attribution%22%3A%20%22%5Cu0026copy%3B%20%5Cu003ca%20href%3D%5C%22http%3A//www.openstreetmap.org/copyright%5C%22%5Cu003eOpenStreetMap%5Cu003c/a%5Cu003e%20contributors%20%5Cu0026copy%3B%20%5Cu003ca%20href%3D%5C%22http%3A//cartodb.com/attributions%5C%22%5Cu003eCartoDB%5Cu003c/a%5Cu003e%2C%20CartoDB%20%5Cu003ca%20href%20%3D%5C%22http%3A//cartodb.com/attributions%5C%22%5Cu003eattributions%5Cu003c/a%5Cu003e%22%2C%20%22detectRetina%22%3A%20false%2C%20%22maxNativeZoom%22%3A%2018%2C%20%22maxZoom%22%3A%2018%2C%20%22minZoom%22%3A%200%2C%20%22noWrap%22%3A%20false%2C%20%22opacity%22%3A%201%2C%20%22subdomains%22%3A%20%22abc%22%2C%20%22tms%22%3A%20false%7D%0A%20%20%20%20%20%20%20%20%20%20%20%20%29.addTo%28map_2f03e8dc81a64d03988162f8bdbc92e0%29%3B%0A%20%20%20%20%20%20%20%20%0A%20%20%20%20%0A%20%20%20%20%20%20%20%20%20%20%20%20var%20marker_10976a7a67dc42daa893fa8121f3f91e%20%3D%20L.marker%28%0A%20%20%20%20%20%20%20%20%20%20%20%20%20%20%20%20%5B52.271968%2C%2010.522635%5D%2C%0A%20%20%20%20%20%20%20%20%20%20%20%20%20%20%20%20%7B%7D%0A%20%20%20%20%20%20%20%20%20%20%20%20%29.addTo%28map_2f03e8dc81a64d03988162f8bdbc92e0%29%3B%0A%20%20%20%20%20%20%20%20%0A%20%20%20%20%0A%20%20%20%20%20%20%20%20%20%20%20%20var%20icon_2a4d42f4208440019eaba6e6289e8684%20%3D%20L.AwesomeMarkers.icon%28%0A%20%20%20%20%20%20%20%20%20%20%20%20%20%20%20%20%7B%22extraClasses%22%3A%20%22fa-rotate-0%22%2C%20%22icon%22%3A%20%22bank%22%2C%20%22iconColor%22%3A%20%22white%22%2C%20%22markerColor%22%3A%20%22red%22%2C%20%22prefix%22%3A%20%22fa%22%7D%0A%20%20%20%20%20%20%20%20%20%20%20%20%29%3B%0A%20%20%20%20%20%20%20%20%20%20%20%20marker_10976a7a67dc42daa893fa8121f3f91e.setIcon%28icon_2a4d42f4208440019eaba6e6289e8684%29%3B%0A%20%20%20%20%20%20%20%20%0A%20%20%20%20%0A%20%20%20%20%20%20%20%20var%20popup_39a627cc3a474db8ba30469dc63ce014%20%3D%20L.popup%28%7B%22maxWidth%22%3A%20%22100%25%22%7D%29%3B%0A%0A%20%20%20%20%20%20%20%20%0A%20%20%20%20%20%20%20%20%20%20%20%20var%20html_0657385d07c84d75b9e76c13c4b21854%20%3D%20%24%28%60%3Cdiv%20id%3D%22html_0657385d07c84d75b9e76c13c4b21854%22%20style%3D%22width%3A%20100.0%25%3B%20height%3A%20100.0%25%3B%22%3EGau%C3%9F-Denkmal%3C/div%3E%60%29%5B0%5D%3B%0A%20%20%20%20%20%20%20%20%20%20%20%20popup_39a627cc3a474db8ba30469dc63ce014.setContent%28html_0657385d07c84d75b9e76c13c4b21854%29%3B%0A%20%20%20%20%20%20%20%20%0A%0A%20%20%20%20%20%20%20%20marker_10976a7a67dc42daa893fa8121f3f91e.bindPopup%28popup_39a627cc3a474db8ba30469dc63ce014%29%0A%20%20%20%20%20%20%20%20%3B%0A%0A%20%20%20%20%20%20%20%20%0A%20%20%20%20%0A%20%20%20%20%0A%20%20%20%20%20%20%20%20%20%20%20%20marker_10976a7a67dc42daa893fa8121f3f91e.bindTooltip%28%0A%20%20%20%20%20%20%20%20%20%20%20%20%20%20%20%20%60%3Cdiv%3E%0A%20%20%20%20%20%20%20%20%20%20%20%20%20%20%20%20%20%20%20%20%201%0A%20%20%20%20%20%20%20%20%20%20%20%20%20%20%20%20%20%3C/div%3E%60%2C%0A%20%20%20%20%20%20%20%20%20%20%20%20%20%20%20%20%7B%22sticky%22%3A%20true%7D%0A%20%20%20%20%20%20%20%20%20%20%20%20%29%3B%0A%20%20%20%20%20%20%20%20%0A%20%20%20%20%0A%20%20%20%20%20%20%20%20%20%20%20%20var%20marker_e5881f1814734d2fbbcce6e789275a21%20%3D%20L.marker%28%0A%20%20%20%20%20%20%20%20%20%20%20%20%20%20%20%20%5B52.27218%2C%2010.52381%5D%2C%0A%20%20%20%20%20%20%20%20%20%20%20%20%20%20%20%20%7B%7D%0A%20%20%20%20%20%20%20%20%20%20%20%20%29.addTo%28map_2f03e8dc81a64d03988162f8bdbc92e0%29%3B%0A%20%20%20%20%20%20%20%20%0A%20%20%20%20%0A%20%20%20%20%20%20%20%20%20%20%20%20var%20icon_2d9913c642ab4f01ac07bb33c4642be9%20%3D%20L.AwesomeMarkers.icon%28%0A%20%20%20%20%20%20%20%20%20%20%20%20%20%20%20%20%7B%22extraClasses%22%3A%20%22fa-rotate-0%22%2C%20%22icon%22%3A%20%22bank%22%2C%20%22iconColor%22%3A%20%22white%22%2C%20%22markerColor%22%3A%20%22red%22%2C%20%22prefix%22%3A%20%22fa%22%7D%0A%20%20%20%20%20%20%20%20%20%20%20%20%29%3B%0A%20%20%20%20%20%20%20%20%20%20%20%20marker_e5881f1814734d2fbbcce6e789275a21.setIcon%28icon_2d9913c642ab4f01ac07bb33c4642be9%29%3B%0A%20%20%20%20%20%20%20%20%0A%20%20%20%20%0A%20%20%20%20%20%20%20%20var%20popup_714d03db54d54ee08ae57aed59b4145c%20%3D%20L.popup%28%7B%22maxWidth%22%3A%20%22100%25%22%7D%29%3B%0A%0A%20%20%20%20%20%20%20%20%0A%20%20%20%20%20%20%20%20%20%20%20%20var%20html_498dc23f699d4c9a998c7a019d3bd273%20%3D%20%24%28%60%3Cdiv%20id%3D%22html_498dc23f699d4c9a998c7a019d3bd273%22%20style%3D%22width%3A%20100.0%25%3B%20height%3A%20100.0%25%3B%22%3EGedenks%C3%A4ule%20f%C3%BCr%20das%20Reserve-Infanterie-Regiment%20273%3C/div%3E%60%29%5B0%5D%3B%0A%20%20%20%20%20%20%20%20%20%20%20%20popup_714d03db54d54ee08ae57aed59b4145c.setContent%28html_498dc23f699d4c9a998c7a019d3bd273%29%3B%0A%20%20%20%20%20%20%20%20%0A%0A%20%20%20%20%20%20%20%20marker_e5881f1814734d2fbbcce6e789275a21.bindPopup%28popup_714d03db54d54ee08ae57aed59b4145c%29%0A%20%20%20%20%20%20%20%20%3B%0A%0A%20%20%20%20%20%20%20%20%0A%20%20%20%20%0A%20%20%20%20%0A%20%20%20%20%20%20%20%20%20%20%20%20marker_e5881f1814734d2fbbcce6e789275a21.bindTooltip%28%0A%20%20%20%20%20%20%20%20%20%20%20%20%20%20%20%20%60%3Cdiv%3E%0A%20%20%20%20%20%20%20%20%20%20%20%20%20%20%20%20%20%20%20%20%202%0A%20%20%20%20%20%20%20%20%20%20%20%20%20%20%20%20%20%3C/div%3E%60%2C%0A%20%20%20%20%20%20%20%20%20%20%20%20%20%20%20%20%7B%22sticky%22%3A%20true%7D%0A%20%20%20%20%20%20%20%20%20%20%20%20%29%3B%0A%20%20%20%20%20%20%20%20%0A%20%20%20%20%0A%20%20%20%20%20%20%20%20%20%20%20%20var%20marker_f37fe1a2669c42d9814179be4c32472f%20%3D%20L.marker%28%0A%20%20%20%20%20%20%20%20%20%20%20%20%20%20%20%20%5B52.274792%2C%2010.528172%5D%2C%0A%20%20%20%20%20%20%20%20%20%20%20%20%20%20%20%20%7B%7D%0A%20%20%20%20%20%20%20%20%20%20%20%20%29.addTo%28map_2f03e8dc81a64d03988162f8bdbc92e0%29%3B%0A%20%20%20%20%20%20%20%20%0A%20%20%20%20%0A%20%20%20%20%20%20%20%20%20%20%20%20var%20icon_1098e66bc1c045cda1eb84f3ecafdf2d%20%3D%20L.AwesomeMarkers.icon%28%0A%20%20%20%20%20%20%20%20%20%20%20%20%20%20%20%20%7B%22extraClasses%22%3A%20%22fa-rotate-0%22%2C%20%22icon%22%3A%20%22bank%22%2C%20%22iconColor%22%3A%20%22white%22%2C%20%22markerColor%22%3A%20%22red%22%2C%20%22prefix%22%3A%20%22fa%22%7D%0A%20%20%20%20%20%20%20%20%20%20%20%20%29%3B%0A%20%20%20%20%20%20%20%20%20%20%20%20marker_f37fe1a2669c42d9814179be4c32472f.setIcon%28icon_1098e66bc1c045cda1eb84f3ecafdf2d%29%3B%0A%20%20%20%20%20%20%20%20%0A%20%20%20%20%0A%20%20%20%20%20%20%20%20var%20popup_7c43769e1d3649e8bd725c6f5791e10a%20%3D%20L.popup%28%7B%22maxWidth%22%3A%20%22100%25%22%7D%29%3B%0A%0A%20%20%20%20%20%20%20%20%0A%20%20%20%20%20%20%20%20%20%20%20%20var%20html_0e5f6ce636a4419e943bf82572895e62%20%3D%20%24%28%60%3Cdiv%20id%3D%22html_0e5f6ce636a4419e943bf82572895e62%22%20style%3D%22width%3A%20100.0%25%3B%20height%3A%20100.0%25%3B%22%3EKein%20Name%20zugeordnet.%3C/div%3E%60%29%5B0%5D%3B%0A%20%20%20%20%20%20%20%20%20%20%20%20popup_7c43769e1d3649e8bd725c6f5791e10a.setContent%28html_0e5f6ce636a4419e943bf82572895e62%29%3B%0A%20%20%20%20%20%20%20%20%0A%0A%20%20%20%20%20%20%20%20marker_f37fe1a2669c42d9814179be4c32472f.bindPopup%28popup_7c43769e1d3649e8bd725c6f5791e10a%29%0A%20%20%20%20%20%20%20%20%3B%0A%0A%20%20%20%20%20%20%20%20%0A%20%20%20%20%0A%20%20%20%20%0A%20%20%20%20%20%20%20%20%20%20%20%20marker_f37fe1a2669c42d9814179be4c32472f.bindTooltip%28%0A%20%20%20%20%20%20%20%20%20%20%20%20%20%20%20%20%60%3Cdiv%3E%0A%20%20%20%20%20%20%20%20%20%20%20%20%20%20%20%20%20%20%20%20%203%0A%20%20%20%20%20%20%20%20%20%20%20%20%20%20%20%20%20%3C/div%3E%60%2C%0A%20%20%20%20%20%20%20%20%20%20%20%20%20%20%20%20%7B%22sticky%22%3A%20true%7D%0A%20%20%20%20%20%20%20%20%20%20%20%20%29%3B%0A%20%20%20%20%20%20%20%20%0A%20%20%20%20%0A%20%20%20%20%20%20%20%20%20%20%20%20var%20marker_9099b5a3d8e3435ebcc66a8bff7a578c%20%3D%20L.marker%28%0A%20%20%20%20%20%20%20%20%20%20%20%20%20%20%20%20%5B52.271059%2C%2010.53269%5D%2C%0A%20%20%20%20%20%20%20%20%20%20%20%20%20%20%20%20%7B%7D%0A%20%20%20%20%20%20%20%20%20%20%20%20%29.addTo%28map_2f03e8dc81a64d03988162f8bdbc92e0%29%3B%0A%20%20%20%20%20%20%20%20%0A%20%20%20%20%0A%20%20%20%20%20%20%20%20%20%20%20%20var%20icon_92b3ccc726c041718a5d3c1eeb67e535%20%3D%20L.AwesomeMarkers.icon%28%0A%20%20%20%20%20%20%20%20%20%20%20%20%20%20%20%20%7B%22extraClasses%22%3A%20%22fa-rotate-0%22%2C%20%22icon%22%3A%20%22bank%22%2C%20%22iconColor%22%3A%20%22white%22%2C%20%22markerColor%22%3A%20%22red%22%2C%20%22prefix%22%3A%20%22fa%22%7D%0A%20%20%20%20%20%20%20%20%20%20%20%20%29%3B%0A%20%20%20%20%20%20%20%20%20%20%20%20marker_9099b5a3d8e3435ebcc66a8bff7a578c.setIcon%28icon_92b3ccc726c041718a5d3c1eeb67e535%29%3B%0A%20%20%20%20%20%20%20%20%0A%20%20%20%20%0A%20%20%20%20%20%20%20%20var%20popup_3f90f9cefbc94b0aac7837a029da875d%20%3D%20L.popup%28%7B%22maxWidth%22%3A%20%22100%25%22%7D%29%3B%0A%0A%20%20%20%20%20%20%20%20%0A%20%20%20%20%20%20%20%20%20%20%20%20var%20html_71f0859162b445eaafb73163421b2edf%20%3D%20%24%28%60%3Cdiv%20id%3D%22html_71f0859162b445eaafb73163421b2edf%22%20style%3D%22width%3A%20100.0%25%3B%20height%3A%20100.0%25%3B%22%3EKein%20Name%20zugeordnet.%3C/div%3E%60%29%5B0%5D%3B%0A%20%20%20%20%20%20%20%20%20%20%20%20popup_3f90f9cefbc94b0aac7837a029da875d.setContent%28html_71f0859162b445eaafb73163421b2edf%29%3B%0A%20%20%20%20%20%20%20%20%0A%0A%20%20%20%20%20%20%20%20marker_9099b5a3d8e3435ebcc66a8bff7a578c.bindPopup%28popup_3f90f9cefbc94b0aac7837a029da875d%29%0A%20%20%20%20%20%20%20%20%3B%0A%0A%20%20%20%20%20%20%20%20%0A%20%20%20%20%0A%20%20%20%20%0A%20%20%20%20%20%20%20%20%20%20%20%20marker_9099b5a3d8e3435ebcc66a8bff7a578c.bindTooltip%28%0A%20%20%20%20%20%20%20%20%20%20%20%20%20%20%20%20%60%3Cdiv%3E%0A%20%20%20%20%20%20%20%20%20%20%20%20%20%20%20%20%20%20%20%20%204%0A%20%20%20%20%20%20%20%20%20%20%20%20%20%20%20%20%20%3C/div%3E%60%2C%0A%20%20%20%20%20%20%20%20%20%20%20%20%20%20%20%20%7B%22sticky%22%3A%20true%7D%0A%20%20%20%20%20%20%20%20%20%20%20%20%29%3B%0A%20%20%20%20%20%20%20%20%0A%20%20%20%20%0A%20%20%20%20%20%20%20%20%20%20%20%20var%20poly_line_4ffad60f7f1048549803678fa9d0b6dc%20%3D%20L.polyline%28%0A%20%20%20%20%20%20%20%20%20%20%20%20%20%20%20%20%5B%5B52.273336%2C%2010.528781%5D%2C%20%5B52.2733%2C%2010.528791%5D%2C%20%5B52.273221%2C%2010.528815%5D%2C%20%5B52.272679%2C%2010.528971%5D%2C%20%5B52.27266%2C%2010.528811%5D%2C%20%5B52.272621%2C%2010.528458%5D%2C%20%5B52.272604%2C%2010.528296%5D%2C%20%5B52.272479%2C%2010.528332%5D%2C%20%5B52.272475%2C%2010.528285%5D%2C%20%5B52.272462%2C%2010.52814%5D%2C%20%5B52.272448%2C%2010.527986%5D%2C%20%5B52.272479%2C%2010.527906%5D%2C%20%5B52.272548%2C%2010.527587%5D%2C%20%5B52.272554%2C%2010.527506%5D%2C%20%5B52.272557%2C%2010.527482%5D%2C%20%5B52.272586%2C%2010.527151%5D%2C%20%5B52.272548%2C%2010.526811%5D%2C%20%5B52.272507%2C%2010.526451%5D%2C%20%5B52.272506%2C%2010.526192%5D%2C%20%5B52.272506%2C%2010.52616%5D%2C%20%5B52.272511%2C%2010.526094%5D%2C%20%5B52.272546%2C%2010.525801%5D%2C%20%5B52.272562%2C%2010.525698%5D%2C%20%5B52.272591%2C%2010.52555%5D%2C%20%5B52.272613%2C%2010.52544%5D%2C%20%5B52.272622%2C%2010.525406%5D%2C%20%5B52.272624%2C%2010.525401%5D%2C%20%5B52.272656%2C%2010.525286%5D%2C%20%5B52.272794%2C%2010.524954%5D%2C%20%5B52.272798%2C%2010.524945%5D%2C%20%5B52.272806%2C%2010.524926%5D%2C%20%5B52.272815%2C%2010.524904%5D%2C%20%5B52.272817%2C%2010.524843%5D%2C%20%5B52.272817%2C%2010.524827%5D%2C%20%5B52.272818%2C%2010.524776%5D%2C%20%5B52.272819%2C%2010.524759%5D%2C%20%5B52.27282%2C%2010.524703%5D%2C%20%5B52.27282%2C%2010.524686%5D%2C%20%5B52.272807%2C%2010.524686%5D%2C%20%5B52.272769%2C%2010.524682%5D%2C%20%5B52.272629%2C%2010.524641%5D%2C%20%5B52.272509%2C%2010.524582%5D%2C%20%5B52.272344%2C%2010.524486%5D%2C%20%5B52.272093%2C%2010.524324%5D%2C%20%5B52.272067%2C%2010.524307%5D%2C%20%5B52.272052%2C%2010.524298%5D%2C%20%5B52.272037%2C%2010.524306%5D%2C%20%5B52.271731%2C%2010.524116%5D%2C%20%5B52.271641%2C%2010.524055%5D%2C%20%5B52.27158%2C%2010.524012%5D%2C%20%5B52.271573%2C%2010.523985%5D%2C%20%5B52.271581%2C%2010.523942%5D%2C%20%5B52.271801%2C%2010.522765%5D%2C%20%5B52.271903%2C%2010.522659%5D%2C%20%5B52.271903%2C%2010.522632%5D%2C%20%5B52.271907%2C%2010.522607%5D%5D%2C%0A%20%20%20%20%20%20%20%20%20%20%20%20%20%20%20%20%7B%22bubblingMouseEvents%22%3A%20true%2C%20%22color%22%3A%20%22%233388ff%22%2C%20%22dashArray%22%3A%20null%2C%20%22dashOffset%22%3A%20null%2C%20%22fill%22%3A%20false%2C%20%22fillColor%22%3A%20%22%233388ff%22%2C%20%22fillOpacity%22%3A%200.2%2C%20%22fillRule%22%3A%20%22evenodd%22%2C%20%22lineCap%22%3A%20%22round%22%2C%20%22lineJoin%22%3A%20%22round%22%2C%20%22noClip%22%3A%20false%2C%20%22opacity%22%3A%201.0%2C%20%22smoothFactor%22%3A%201.0%2C%20%22stroke%22%3A%20true%2C%20%22weight%22%3A%203%7D%0A%20%20%20%20%20%20%20%20%20%20%20%20%29.addTo%28map_2f03e8dc81a64d03988162f8bdbc92e0%29%3B%0A%20%20%20%20%20%20%20%20%0A%20%20%20%20%0A%20%20%20%20%20%20%20%20%20%20%20%20var%20poly_line_20983f185e2d4cefa035bd8862f72fed%20%3D%20L.polyline%28%0A%20%20%20%20%20%20%20%20%20%20%20%20%20%20%20%20%5B%5B52.273336%2C%2010.528781%5D%2C%20%5B52.2733%2C%2010.528791%5D%2C%20%5B52.273221%2C%2010.528815%5D%2C%20%5B52.272679%2C%2010.528971%5D%2C%20%5B52.27266%2C%2010.528811%5D%2C%20%5B52.272621%2C%2010.528458%5D%2C%20%5B52.272604%2C%2010.528296%5D%2C%20%5B52.272479%2C%2010.528332%5D%2C%20%5B52.272475%2C%2010.528285%5D%2C%20%5B52.272462%2C%2010.52814%5D%2C%20%5B52.272448%2C%2010.527986%5D%2C%20%5B52.272479%2C%2010.527906%5D%2C%20%5B52.272548%2C%2010.527587%5D%2C%20%5B52.272554%2C%2010.527506%5D%2C%20%5B52.272557%2C%2010.527482%5D%2C%20%5B52.272586%2C%2010.527151%5D%2C%20%5B52.272548%2C%2010.526811%5D%2C%20%5B52.272507%2C%2010.526451%5D%2C%20%5B52.272506%2C%2010.526192%5D%2C%20%5B52.272506%2C%2010.52616%5D%2C%20%5B52.272511%2C%2010.526094%5D%2C%20%5B52.272546%2C%2010.525801%5D%2C%20%5B52.272562%2C%2010.525698%5D%2C%20%5B52.272591%2C%2010.52555%5D%2C%20%5B52.272613%2C%2010.52544%5D%2C%20%5B52.272622%2C%2010.525406%5D%2C%20%5B52.272624%2C%2010.525401%5D%2C%20%5B52.272656%2C%2010.525286%5D%2C%20%5B52.272794%2C%2010.524954%5D%2C%20%5B52.272798%2C%2010.524945%5D%2C%20%5B52.272806%2C%2010.524926%5D%2C%20%5B52.272815%2C%2010.524904%5D%2C%20%5B52.272817%2C%2010.524843%5D%2C%20%5B52.272817%2C%2010.524827%5D%2C%20%5B52.272818%2C%2010.524776%5D%2C%20%5B52.272819%2C%2010.524759%5D%2C%20%5B52.27282%2C%2010.524703%5D%2C%20%5B52.27282%2C%2010.524686%5D%2C%20%5B52.272807%2C%2010.524686%5D%2C%20%5B52.272769%2C%2010.524682%5D%2C%20%5B52.272629%2C%2010.524641%5D%2C%20%5B52.272509%2C%2010.524582%5D%2C%20%5B52.272344%2C%2010.524486%5D%2C%20%5B52.272093%2C%2010.524324%5D%2C%20%5B52.272067%2C%2010.524307%5D%2C%20%5B52.272052%2C%2010.524298%5D%2C%20%5B52.272037%2C%2010.524306%5D%2C%20%5B52.271731%2C%2010.524116%5D%2C%20%5B52.271641%2C%2010.524055%5D%2C%20%5B52.27158%2C%2010.524012%5D%2C%20%5B52.271573%2C%2010.523985%5D%2C%20%5B52.271581%2C%2010.523942%5D%2C%20%5B52.271801%2C%2010.522765%5D%2C%20%5B52.271903%2C%2010.522659%5D%2C%20%5B52.271903%2C%2010.522632%5D%2C%20%5B52.271907%2C%2010.522607%5D%5D%2C%0A%20%20%20%20%20%20%20%20%20%20%20%20%20%20%20%20%7B%22bubblingMouseEvents%22%3A%20true%2C%20%22color%22%3A%20%22%233388ff%22%2C%20%22dashArray%22%3A%20null%2C%20%22dashOffset%22%3A%20null%2C%20%22fill%22%3A%20false%2C%20%22fillColor%22%3A%20%22%233388ff%22%2C%20%22fillOpacity%22%3A%200.2%2C%20%22fillRule%22%3A%20%22evenodd%22%2C%20%22lineCap%22%3A%20%22round%22%2C%20%22lineJoin%22%3A%20%22round%22%2C%20%22noClip%22%3A%20false%2C%20%22opacity%22%3A%201.0%2C%20%22smoothFactor%22%3A%201.0%2C%20%22stroke%22%3A%20true%2C%20%22weight%22%3A%203%7D%0A%20%20%20%20%20%20%20%20%20%20%20%20%29.addTo%28map_2f03e8dc81a64d03988162f8bdbc92e0%29%3B%0A%20%20%20%20%20%20%20%20%0A%20%20%20%20%0A%20%20%20%20%20%20%20%20%20%20%20%20var%20marker_be5ad24dbe6a452e90cf4dcf9efd6882%20%3D%20L.marker%28%0A%20%20%20%20%20%20%20%20%20%20%20%20%20%20%20%20%5B10.5288243%2C%2052.2733412%5D%2C%0A%20%20%20%20%20%20%20%20%20%20%20%20%20%20%20%20%7B%7D%0A%20%20%20%20%20%20%20%20%20%20%20%20%29.addTo%28map_2f03e8dc81a64d03988162f8bdbc92e0%29%3B%0A%20%20%20%20%20%20%20%20%0A%20%20%20%20%0A%20%20%20%20%20%20%20%20%20%20%20%20var%20icon_bd12051dc85a432586087390e1194d81%20%3D%20L.AwesomeMarkers.icon%28%0A%20%20%20%20%20%20%20%20%20%20%20%20%20%20%20%20%7B%22extraClasses%22%3A%20%22fa-rotate-0%22%2C%20%22icon%22%3A%20%22info-sign%22%2C%20%22iconColor%22%3A%20%22white%22%2C%20%22markerColor%22%3A%20%22green%22%2C%20%22prefix%22%3A%20%22glyphicon%22%7D%0A%20%20%20%20%20%20%20%20%20%20%20%20%29%3B%0A%20%20%20%20%20%20%20%20%20%20%20%20marker_be5ad24dbe6a452e90cf4dcf9efd6882.setIcon%28icon_bd12051dc85a432586087390e1194d81%29%3B%0A%20%20%20%20%20%20%20%20%0A%20%20%20%20%0A%20%20%20%20%20%20%20%20%20%20%20%20var%20poly_line_0fbaa93ec6624993b3f55d118a45447c%20%3D%20L.polyline%28%0A%20%20%20%20%20%20%20%20%20%20%20%20%20%20%20%20%5B%5B52.273336%2C%2010.528781%5D%2C%20%5B52.2733%2C%2010.528791%5D%2C%20%5B52.273221%2C%2010.528815%5D%2C%20%5B52.272679%2C%2010.528971%5D%2C%20%5B52.27266%2C%2010.528811%5D%2C%20%5B52.272621%2C%2010.528458%5D%2C%20%5B52.272604%2C%2010.528296%5D%2C%20%5B52.272479%2C%2010.528332%5D%2C%20%5B52.272475%2C%2010.528285%5D%2C%20%5B52.272462%2C%2010.52814%5D%2C%20%5B52.272448%2C%2010.527986%5D%2C%20%5B52.272479%2C%2010.527906%5D%2C%20%5B52.272548%2C%2010.527587%5D%2C%20%5B52.272554%2C%2010.527506%5D%2C%20%5B52.272557%2C%2010.527482%5D%2C%20%5B52.272586%2C%2010.527151%5D%2C%20%5B52.272548%2C%2010.526811%5D%2C%20%5B52.272507%2C%2010.526451%5D%2C%20%5B52.272506%2C%2010.526192%5D%2C%20%5B52.272506%2C%2010.52616%5D%2C%20%5B52.272511%2C%2010.526094%5D%2C%20%5B52.272546%2C%2010.525801%5D%2C%20%5B52.272562%2C%2010.525698%5D%2C%20%5B52.272591%2C%2010.52555%5D%2C%20%5B52.272613%2C%2010.52544%5D%2C%20%5B52.272622%2C%2010.525406%5D%2C%20%5B52.272624%2C%2010.525401%5D%2C%20%5B52.272656%2C%2010.525286%5D%2C%20%5B52.272794%2C%2010.524954%5D%2C%20%5B52.272798%2C%2010.524945%5D%2C%20%5B52.272806%2C%2010.524926%5D%2C%20%5B52.272815%2C%2010.524904%5D%2C%20%5B52.272817%2C%2010.524843%5D%2C%20%5B52.272817%2C%2010.524827%5D%2C%20%5B52.272818%2C%2010.524776%5D%2C%20%5B52.272819%2C%2010.524759%5D%2C%20%5B52.27282%2C%2010.524703%5D%2C%20%5B52.27282%2C%2010.524686%5D%2C%20%5B52.272807%2C%2010.524686%5D%2C%20%5B52.272769%2C%2010.524682%5D%2C%20%5B52.272629%2C%2010.524641%5D%2C%20%5B52.272509%2C%2010.524582%5D%2C%20%5B52.272344%2C%2010.524486%5D%2C%20%5B52.272093%2C%2010.524324%5D%2C%20%5B52.272067%2C%2010.524307%5D%2C%20%5B52.272052%2C%2010.524298%5D%2C%20%5B52.272037%2C%2010.524306%5D%2C%20%5B52.271731%2C%2010.524116%5D%2C%20%5B52.271641%2C%2010.524055%5D%2C%20%5B52.27158%2C%2010.524012%5D%2C%20%5B52.271573%2C%2010.523985%5D%2C%20%5B52.271581%2C%2010.523942%5D%2C%20%5B52.271801%2C%2010.522765%5D%2C%20%5B52.271903%2C%2010.522659%5D%2C%20%5B52.271903%2C%2010.522632%5D%2C%20%5B52.271907%2C%2010.522607%5D%5D%2C%0A%20%20%20%20%20%20%20%20%20%20%20%20%20%20%20%20%7B%22bubblingMouseEvents%22%3A%20true%2C%20%22color%22%3A%20%22%233388ff%22%2C%20%22dashArray%22%3A%20null%2C%20%22dashOffset%22%3A%20null%2C%20%22fill%22%3A%20false%2C%20%22fillColor%22%3A%20%22%233388ff%22%2C%20%22fillOpacity%22%3A%200.2%2C%20%22fillRule%22%3A%20%22evenodd%22%2C%20%22lineCap%22%3A%20%22round%22%2C%20%22lineJoin%22%3A%20%22round%22%2C%20%22noClip%22%3A%20false%2C%20%22opacity%22%3A%201.0%2C%20%22smoothFactor%22%3A%201.0%2C%20%22stroke%22%3A%20true%2C%20%22weight%22%3A%203%7D%0A%20%20%20%20%20%20%20%20%20%20%20%20%29.addTo%28map_2f03e8dc81a64d03988162f8bdbc92e0%29%3B%0A%20%20%20%20%20%20%20%20%0A%20%20%20%20%0A%20%20%20%20%20%20%20%20%20%20%20%20var%20marker_384a804c008d437db8b161ddd3469652%20%3D%20L.marker%28%0A%20%20%20%20%20%20%20%20%20%20%20%20%20%20%20%20%5B52.2733412%2C%2010.5288243%5D%2C%0A%20%20%20%20%20%20%20%20%20%20%20%20%20%20%20%20%7B%7D%0A%20%20%20%20%20%20%20%20%20%20%20%20%29.addTo%28map_2f03e8dc81a64d03988162f8bdbc92e0%29%3B%0A%20%20%20%20%20%20%20%20%0A%20%20%20%20%0A%20%20%20%20%20%20%20%20%20%20%20%20var%20icon_364330573b7d4ed7931a29c2203f4463%20%3D%20L.AwesomeMarkers.icon%28%0A%20%20%20%20%20%20%20%20%20%20%20%20%20%20%20%20%7B%22extraClasses%22%3A%20%22fa-rotate-0%22%2C%20%22icon%22%3A%20%22info-sign%22%2C%20%22iconColor%22%3A%20%22white%22%2C%20%22markerColor%22%3A%20%22green%22%2C%20%22prefix%22%3A%20%22glyphicon%22%7D%0A%20%20%20%20%20%20%20%20%20%20%20%20%29%3B%0A%20%20%20%20%20%20%20%20%20%20%20%20marker_384a804c008d437db8b161ddd3469652.setIcon%28icon_364330573b7d4ed7931a29c2203f4463%29%3B%0A%20%20%20%20%20%20%20%20%0A%20%20%20%20%0A%20%20%20%20%20%20%20%20%20%20%20%20var%20poly_line_ab2ef780ced84b82b4451e9c3a76fce8%20%3D%20L.polyline%28%0A%20%20%20%20%20%20%20%20%20%20%20%20%20%20%20%20%5B%5B52.273336%2C%2010.528781%5D%2C%20%5B52.2733%2C%2010.528791%5D%2C%20%5B52.273221%2C%2010.528815%5D%2C%20%5B52.272679%2C%2010.528971%5D%2C%20%5B52.27266%2C%2010.528811%5D%2C%20%5B52.272621%2C%2010.528458%5D%2C%20%5B52.272604%2C%2010.528296%5D%2C%20%5B52.272479%2C%2010.528332%5D%2C%20%5B52.272475%2C%2010.528285%5D%2C%20%5B52.272462%2C%2010.52814%5D%2C%20%5B52.272448%2C%2010.527986%5D%2C%20%5B52.272479%2C%2010.527906%5D%2C%20%5B52.272548%2C%2010.527587%5D%2C%20%5B52.272554%2C%2010.527506%5D%2C%20%5B52.272557%2C%2010.527482%5D%2C%20%5B52.272586%2C%2010.527151%5D%2C%20%5B52.272548%2C%2010.526811%5D%2C%20%5B52.272507%2C%2010.526451%5D%2C%20%5B52.272506%2C%2010.526192%5D%2C%20%5B52.272506%2C%2010.52616%5D%2C%20%5B52.272511%2C%2010.526094%5D%2C%20%5B52.272546%2C%2010.525801%5D%2C%20%5B52.272562%2C%2010.525698%5D%2C%20%5B52.272591%2C%2010.52555%5D%2C%20%5B52.272613%2C%2010.52544%5D%2C%20%5B52.272622%2C%2010.525406%5D%2C%20%5B52.272624%2C%2010.525401%5D%2C%20%5B52.272656%2C%2010.525286%5D%2C%20%5B52.272794%2C%2010.524954%5D%2C%20%5B52.272798%2C%2010.524945%5D%2C%20%5B52.272806%2C%2010.524926%5D%2C%20%5B52.272815%2C%2010.524904%5D%2C%20%5B52.272817%2C%2010.524843%5D%2C%20%5B52.272817%2C%2010.524827%5D%2C%20%5B52.272818%2C%2010.524776%5D%2C%20%5B52.272819%2C%2010.524759%5D%2C%20%5B52.27282%2C%2010.524703%5D%2C%20%5B52.27282%2C%2010.524686%5D%2C%20%5B52.272807%2C%2010.524686%5D%2C%20%5B52.272769%2C%2010.524682%5D%2C%20%5B52.272629%2C%2010.524641%5D%2C%20%5B52.272509%2C%2010.524582%5D%2C%20%5B52.272344%2C%2010.524486%5D%2C%20%5B52.272093%2C%2010.524324%5D%2C%20%5B52.272067%2C%2010.524307%5D%2C%20%5B52.272052%2C%2010.524298%5D%2C%20%5B52.272037%2C%2010.524306%5D%2C%20%5B52.271731%2C%2010.524116%5D%2C%20%5B52.271641%2C%2010.524055%5D%2C%20%5B52.27158%2C%2010.524012%5D%2C%20%5B52.271573%2C%2010.523985%5D%2C%20%5B52.271581%2C%2010.523942%5D%2C%20%5B52.271801%2C%2010.522765%5D%2C%20%5B52.271903%2C%2010.522659%5D%2C%20%5B52.271903%2C%2010.522632%5D%2C%20%5B52.271907%2C%2010.522607%5D%5D%2C%0A%20%20%20%20%20%20%20%20%20%20%20%20%20%20%20%20%7B%22bubblingMouseEvents%22%3A%20true%2C%20%22color%22%3A%20%22%233388ff%22%2C%20%22dashArray%22%3A%20null%2C%20%22dashOffset%22%3A%20null%2C%20%22fill%22%3A%20false%2C%20%22fillColor%22%3A%20%22%233388ff%22%2C%20%22fillOpacity%22%3A%200.2%2C%20%22fillRule%22%3A%20%22evenodd%22%2C%20%22lineCap%22%3A%20%22round%22%2C%20%22lineJoin%22%3A%20%22round%22%2C%20%22noClip%22%3A%20false%2C%20%22opacity%22%3A%201.0%2C%20%22smoothFactor%22%3A%201.0%2C%20%22stroke%22%3A%20true%2C%20%22weight%22%3A%203%7D%0A%20%20%20%20%20%20%20%20%20%20%20%20%29.addTo%28map_2f03e8dc81a64d03988162f8bdbc92e0%29%3B%0A%20%20%20%20%20%20%20%20%0A%20%20%20%20%0A%20%20%20%20%20%20%20%20%20%20%20%20var%20marker_e9d6c75de74b4fbb9d8a2aac01685816%20%3D%20L.marker%28%0A%20%20%20%20%20%20%20%20%20%20%20%20%20%20%20%20%5B52.2733412%2C%2010.5288243%5D%2C%0A%20%20%20%20%20%20%20%20%20%20%20%20%20%20%20%20%7B%7D%0A%20%20%20%20%20%20%20%20%20%20%20%20%29.addTo%28map_2f03e8dc81a64d03988162f8bdbc92e0%29%3B%0A%20%20%20%20%20%20%20%20%0A%20%20%20%20%0A%20%20%20%20%20%20%20%20%20%20%20%20var%20icon_cd309fbd30b34aa6bc44ff910db04418%20%3D%20L.AwesomeMarkers.icon%28%0A%20%20%20%20%20%20%20%20%20%20%20%20%20%20%20%20%7B%22extraClasses%22%3A%20%22fa-rotate-0%22%2C%20%22icon%22%3A%20%22info-sign%22%2C%20%22iconColor%22%3A%20%22white%22%2C%20%22markerColor%22%3A%20%22green%22%2C%20%22prefix%22%3A%20%22glyphicon%22%7D%0A%20%20%20%20%20%20%20%20%20%20%20%20%29%3B%0A%20%20%20%20%20%20%20%20%20%20%20%20marker_e9d6c75de74b4fbb9d8a2aac01685816.setIcon%28icon_cd309fbd30b34aa6bc44ff910db04418%29%3B%0A%20%20%20%20%20%20%20%20%0A%20%20%20%20%0A%20%20%20%20%20%20%20%20%20%20%20%20var%20poly_line_c3ccd04e8fd24ff1a1a1de14b172338c%20%3D%20L.polyline%28%0A%20%20%20%20%20%20%20%20%20%20%20%20%20%20%20%20%5B%5B52.273336%2C%2010.528781%5D%2C%20%5B52.2733%2C%2010.528791%5D%2C%20%5B52.273221%2C%2010.528815%5D%2C%20%5B52.272679%2C%2010.528971%5D%2C%20%5B52.27266%2C%2010.528811%5D%2C%20%5B52.272621%2C%2010.528458%5D%2C%20%5B52.272604%2C%2010.528296%5D%2C%20%5B52.272479%2C%2010.528332%5D%2C%20%5B52.272475%2C%2010.528285%5D%2C%20%5B52.272462%2C%2010.52814%5D%2C%20%5B52.272448%2C%2010.527986%5D%2C%20%5B52.272479%2C%2010.527906%5D%2C%20%5B52.272548%2C%2010.527587%5D%2C%20%5B52.272554%2C%2010.527506%5D%2C%20%5B52.272557%2C%2010.527482%5D%2C%20%5B52.272586%2C%2010.527151%5D%2C%20%5B52.272548%2C%2010.526811%5D%2C%20%5B52.272507%2C%2010.526451%5D%2C%20%5B52.272506%2C%2010.526192%5D%2C%20%5B52.272506%2C%2010.52616%5D%2C%20%5B52.272511%2C%2010.526094%5D%2C%20%5B52.272546%2C%2010.525801%5D%2C%20%5B52.272562%2C%2010.525698%5D%2C%20%5B52.272591%2C%2010.52555%5D%2C%20%5B52.272613%2C%2010.52544%5D%2C%20%5B52.272622%2C%2010.525406%5D%2C%20%5B52.272624%2C%2010.525401%5D%2C%20%5B52.272656%2C%2010.525286%5D%2C%20%5B52.272794%2C%2010.524954%5D%2C%20%5B52.272798%2C%2010.524945%5D%2C%20%5B52.272806%2C%2010.524926%5D%2C%20%5B52.272815%2C%2010.524904%5D%2C%20%5B52.272817%2C%2010.524843%5D%2C%20%5B52.272817%2C%2010.524827%5D%2C%20%5B52.272818%2C%2010.524776%5D%2C%20%5B52.272819%2C%2010.524759%5D%2C%20%5B52.27282%2C%2010.524703%5D%2C%20%5B52.27282%2C%2010.524686%5D%2C%20%5B52.272807%2C%2010.524686%5D%2C%20%5B52.272769%2C%2010.524682%5D%2C%20%5B52.272629%2C%2010.524641%5D%2C%20%5B52.272509%2C%2010.524582%5D%2C%20%5B52.272344%2C%2010.524486%5D%2C%20%5B52.272093%2C%2010.524324%5D%2C%20%5B52.272067%2C%2010.524307%5D%2C%20%5B52.272052%2C%2010.524298%5D%2C%20%5B52.272037%2C%2010.524306%5D%2C%20%5B52.271731%2C%2010.524116%5D%2C%20%5B52.271641%2C%2010.524055%5D%2C%20%5B52.27158%2C%2010.524012%5D%2C%20%5B52.271573%2C%2010.523985%5D%2C%20%5B52.271581%2C%2010.523942%5D%2C%20%5B52.271801%2C%2010.522765%5D%2C%20%5B52.271903%2C%2010.522659%5D%2C%20%5B52.271903%2C%2010.522632%5D%2C%20%5B52.271907%2C%2010.522607%5D%5D%2C%0A%20%20%20%20%20%20%20%20%20%20%20%20%20%20%20%20%7B%22bubblingMouseEvents%22%3A%20true%2C%20%22color%22%3A%20%22%233388ff%22%2C%20%22dashArray%22%3A%20null%2C%20%22dashOffset%22%3A%20null%2C%20%22fill%22%3A%20false%2C%20%22fillColor%22%3A%20%22%233388ff%22%2C%20%22fillOpacity%22%3A%200.2%2C%20%22fillRule%22%3A%20%22evenodd%22%2C%20%22lineCap%22%3A%20%22round%22%2C%20%22lineJoin%22%3A%20%22round%22%2C%20%22noClip%22%3A%20false%2C%20%22opacity%22%3A%201.0%2C%20%22smoothFactor%22%3A%201.0%2C%20%22stroke%22%3A%20true%2C%20%22weight%22%3A%203%7D%0A%20%20%20%20%20%20%20%20%20%20%20%20%29.addTo%28map_2f03e8dc81a64d03988162f8bdbc92e0%29%3B%0A%20%20%20%20%20%20%20%20%0A%20%20%20%20%0A%20%20%20%20%20%20%20%20%20%20%20%20var%20marker_ce9e9716e9264bbfb85afd3d084d5df0%20%3D%20L.marker%28%0A%20%20%20%20%20%20%20%20%20%20%20%20%20%20%20%20%5B52.2733412%2C%2010.5288243%5D%2C%0A%20%20%20%20%20%20%20%20%20%20%20%20%20%20%20%20%7B%7D%0A%20%20%20%20%20%20%20%20%20%20%20%20%29.addTo%28map_2f03e8dc81a64d03988162f8bdbc92e0%29%3B%0A%20%20%20%20%20%20%20%20%0A%20%20%20%20%0A%20%20%20%20%20%20%20%20%20%20%20%20var%20icon_a2d8e5f555a14612a6b1d9def0a6406e%20%3D%20L.AwesomeMarkers.icon%28%0A%20%20%20%20%20%20%20%20%20%20%20%20%20%20%20%20%7B%22extraClasses%22%3A%20%22fa-rotate-0%22%2C%20%22icon%22%3A%20%22info-sign%22%2C%20%22iconColor%22%3A%20%22white%22%2C%20%22markerColor%22%3A%20%22green%22%2C%20%22prefix%22%3A%20%22glyphicon%22%7D%0A%20%20%20%20%20%20%20%20%20%20%20%20%29%3B%0A%20%20%20%20%20%20%20%20%20%20%20%20marker_ce9e9716e9264bbfb85afd3d084d5df0.setIcon%28icon_a2d8e5f555a14612a6b1d9def0a6406e%29%3B%0A%20%20%20%20%20%20%20%20%0A%3C/script%3E onload=\"this.contentDocument.open();this.contentDocument.write(    decodeURIComponent(this.getAttribute('data-html')));this.contentDocument.close();\" allowfullscreen webkitallowfullscreen mozallowfullscreen></iframe></div></div>"
     },
     "execution_count": 123,
     "metadata": {},
     "output_type": "execute_result"
    }
   ],
   "source": [
    "folium.PolyLine(\n",
    "        locations=[list(reversed(coord))\n",
    "                           for coord in\n",
    "                           route['features'][0]['geometry']['coordinates']]).add_to(m)\n",
    "\n",
    "# add marker for homebase.\n",
    "folium.Marker(\n",
    "        location = list(reversed(homebase)),\n",
    "        icon = folium.Icon(color=\"green\")\n",
    "    ).add_to(m)\n",
    "\n",
    "m"
   ],
   "metadata": {
    "collapsed": false,
    "pycharm": {
     "name": "#%%\n"
    }
   }
  },
  {
   "cell_type": "code",
   "execution_count": null,
   "outputs": [],
   "source": [],
   "metadata": {
    "collapsed": false,
    "pycharm": {
     "name": "#%%\n"
    }
   }
  }
 ],
 "metadata": {
  "kernelspec": {
   "display_name": "Python 3",
   "language": "python",
   "name": "python3"
  },
  "language_info": {
   "codemirror_mode": {
    "name": "ipython",
    "version": 2
   },
   "file_extension": ".py",
   "mimetype": "text/x-python",
   "name": "python",
   "nbconvert_exporter": "python",
   "pygments_lexer": "ipython2",
   "version": "2.7.6"
  }
 },
 "nbformat": 4,
 "nbformat_minor": 0
}